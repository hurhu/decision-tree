{
 "cells": [
  {
   "cell_type": "code",
   "execution_count": 1,
   "metadata": {},
   "outputs": [],
   "source": [
    "import numpy as np\n",
    "import pandas as pd"
   ]
  },
  {
   "cell_type": "code",
   "execution_count": 2,
   "metadata": {},
   "outputs": [],
   "source": [
    "data = pd.read_csv('./ID3_homework.txt', sep='\\s+', header=None)"
   ]
  },
  {
   "cell_type": "code",
   "execution_count": 4,
   "metadata": {},
   "outputs": [],
   "source": [
    "data = data.iloc[:, 1:]"
   ]
  },
  {
   "cell_type": "code",
   "execution_count": 5,
   "metadata": {},
   "outputs": [
    {
     "name": "stdout",
     "output_type": "stream",
     "text": [
      "           1     2       3       4    5\n",
      "0      Sunny   Hot    High    Weak   No\n",
      "1      Sunny   Hot    High  Strong   No\n",
      "2   Overcast   Hot    High    Weak  Yes\n",
      "3       Rain  Mild    High    Weak  Yes\n",
      "4       Rain  Cool  Normal    Weak  Yes\n",
      "5       Rain  Cool  Normal  Strong   No\n",
      "6   Overcast  Cool  Normal  Strong  Yes\n",
      "7      Sunny  Mild    High    Weak   No\n",
      "8      Sunny  Cool  Normal    Weak  Yes\n",
      "9       Rain  Mild  Normal    Weak  Yes\n",
      "10     Sunny  Mild  Normal  Strong  Yes\n",
      "11  Overcast  Mild    High  Strong  Yes\n",
      "12  Overcast   Hot  Normal    Weak  Yes\n",
      "13      Rain  Mild    High  Strong   No\n"
     ]
    }
   ],
   "source": [
    "print(data)"
   ]
  },
  {
   "cell_type": "code",
   "execution_count": 6,
   "metadata": {},
   "outputs": [
    {
     "name": "stdout",
     "output_type": "stream",
     "text": [
      "Yes    9\n",
      "No     5\n",
      "Name: 5, dtype: int64\n"
     ]
    }
   ],
   "source": [
    "print(data.iloc[:, 4].value_counts())"
   ]
  },
  {
   "cell_type": "code",
   "execution_count": 8,
   "metadata": {},
   "outputs": [
    {
     "data": {
      "text/plain": [
       "0.9402859586706311"
      ]
     },
     "execution_count": 8,
     "metadata": {},
     "output_type": "execute_result"
    }
   ],
   "source": [
    "#整个数据集熵\n",
    "entropy_data = -9/14 * np.log2(9/14) - 5/14 * np.log2(5/14)\n",
    "entropy_data"
   ]
  },
  {
   "cell_type": "code",
   "execution_count": 25,
   "metadata": {
    "scrolled": true
   },
   "outputs": [
    {
     "name": "stdout",
     "output_type": "stream",
     "text": [
      "Sunny       5\n",
      "Rain        5\n",
      "Overcast    4\n",
      "Name: 1, dtype: int64\n",
      "           1    5\n",
      "0      Sunny   No\n",
      "1      Sunny   No\n",
      "2   Overcast  Yes\n",
      "3       Rain  Yes\n",
      "4       Rain  Yes\n",
      "5       Rain   No\n",
      "6   Overcast  Yes\n",
      "7      Sunny   No\n",
      "8      Sunny  Yes\n",
      "9       Rain  Yes\n",
      "10     Sunny  Yes\n",
      "11  Overcast  Yes\n",
      "12  Overcast  Yes\n",
      "13      Rain   No\n",
      "0.24674981977443933\n"
     ]
    }
   ],
   "source": [
    "#所有的特征从0开始编号\n",
    "#特征0的信息增益\n",
    "print(data.iloc[:, 0].value_counts())\n",
    "print(data.iloc[:, [0,4]])\n",
    "condition_entropy_feature0 = 5/14 * (-2/5 * np.log2(2/5) - 3/5 * np.log2(3/5)) + 5/14 * (-3/5 * np.log2(3/5) - 2/5 * np.log2(2/5)) + 4/14 * (-4/4 * np.log2(4/4))\n",
    "info_gain0 = entropy_data - condition_entropy_feature0\n",
    "print(info_gain0)"
   ]
  },
  {
   "cell_type": "code",
   "execution_count": 27,
   "metadata": {},
   "outputs": [
    {
     "name": "stdout",
     "output_type": "stream",
     "text": [
      "Mild    6\n",
      "Hot     4\n",
      "Cool    4\n",
      "Name: 2, dtype: int64\n",
      "       2    5\n",
      "0    Hot   No\n",
      "1    Hot   No\n",
      "2    Hot  Yes\n",
      "3   Mild  Yes\n",
      "4   Cool  Yes\n",
      "5   Cool   No\n",
      "6   Cool  Yes\n",
      "7   Mild   No\n",
      "8   Cool  Yes\n",
      "9   Mild  Yes\n",
      "10  Mild  Yes\n",
      "11  Mild  Yes\n",
      "12   Hot  Yes\n",
      "13  Mild   No\n",
      "0.02922256565895487\n"
     ]
    }
   ],
   "source": [
    "#特征1的信息增益\n",
    "print(data.iloc[:, 1].value_counts())\n",
    "print(data.iloc[:, [1,4]])\n",
    "condition_entropy_feature1 = 6/14 * (-4/6 * np.log2(4/6) - 2/6 * np.log2(2/6)) + 4/14 * (-2/4 * np.log2(2/4) - 2/4 * np.log2(2/4)) + 4/14 * (-3/4 * np.log2(3/4) - 1/4 * np.log2(1/4))\n",
    "info_gain1 = entropy_data - condition_entropy_feature1\n",
    "print(info_gain1)"
   ]
  },
  {
   "cell_type": "code",
   "execution_count": 31,
   "metadata": {},
   "outputs": [
    {
     "name": "stdout",
     "output_type": "stream",
     "text": [
      "Normal    7\n",
      "High      7\n",
      "Name: 3, dtype: int64\n",
      "         3    5\n",
      "0     High   No\n",
      "1     High   No\n",
      "2     High  Yes\n",
      "3     High  Yes\n",
      "4   Normal  Yes\n",
      "5   Normal   No\n",
      "6   Normal  Yes\n",
      "7     High   No\n",
      "8   Normal  Yes\n",
      "9   Normal  Yes\n",
      "10  Normal  Yes\n",
      "11    High  Yes\n",
      "12  Normal  Yes\n",
      "13    High   No\n",
      "0.15183550136234159\n"
     ]
    }
   ],
   "source": [
    "#特征2的信息增益\n",
    "print(data.iloc[:, 2].value_counts())\n",
    "print(data.iloc[:, [2, 4]])\n",
    "condition_entropy_feature2 = 7/14 * (-6/7 * np.log2(6/7) - 1/7 * np.log2(1/7)) + 7/14 * (-3/7 * np.log2(3/7) - 4/7 * np.log2(4/7))\n",
    "info_gain2 = entropy_data - condition_entropy_feature2\n",
    "print(info_gain2)"
   ]
  },
  {
   "cell_type": "code",
   "execution_count": 33,
   "metadata": {},
   "outputs": [
    {
     "name": "stdout",
     "output_type": "stream",
     "text": [
      "Weak      8\n",
      "Strong    6\n",
      "Name: 4, dtype: int64\n",
      "         4    5\n",
      "0     Weak   No\n",
      "1   Strong   No\n",
      "2     Weak  Yes\n",
      "3     Weak  Yes\n",
      "4     Weak  Yes\n",
      "5   Strong   No\n",
      "6   Strong  Yes\n",
      "7     Weak   No\n",
      "8     Weak  Yes\n",
      "9     Weak  Yes\n",
      "10  Strong  Yes\n",
      "11  Strong  Yes\n",
      "12    Weak  Yes\n",
      "13  Strong   No\n",
      "0.04812703040826949\n"
     ]
    }
   ],
   "source": [
    "#特征3的信息增益\n",
    "print(data.iloc[:, 3].value_counts())\n",
    "print(data.iloc[:, [3,4]])\n",
    "condition_entropy_feature3 = 8/14 * (-6/8 * np.log2(6/8) - 2/8 * np.log2(2/8)) + 6/14 * (-3/6 * np.log2(3/6) - 3/6 * np.log2(3/6))\n",
    "info_gain3 = entropy_data - condition_entropy_feature3\n",
    "print(info_gain3)"
   ]
  },
  {
   "cell_type": "code",
   "execution_count": 39,
   "metadata": {},
   "outputs": [],
   "source": [
    "#通过比较特征0的信息增益最大，其中特征0为overcast时标签全部为yes,所以属于该属性值的样本不用再做细分,用特征0做第一次分支\n",
    "data1 = data[data.iloc[:, 0] == 'Sunny']\n",
    "data2 = data[data.iloc[:, 0] == 'Rain']"
   ]
  },
  {
   "cell_type": "code",
   "execution_count": 41,
   "metadata": {},
   "outputs": [
    {
     "name": "stdout",
     "output_type": "stream",
     "text": [
      "        1     2       3       4    5\n",
      "0   Sunny   Hot    High    Weak   No\n",
      "1   Sunny   Hot    High  Strong   No\n",
      "7   Sunny  Mild    High    Weak   No\n",
      "8   Sunny  Cool  Normal    Weak  Yes\n",
      "10  Sunny  Mild  Normal  Strong  Yes\n",
      "0.9709505944546686\n"
     ]
    }
   ],
   "source": [
    "#接下来对data1使用ID3算法\n",
    "print(data1)\n",
    "entropy_data1 = -2/5 * np.log2(2/5) - 3/5 * np.log2(3/5)\n",
    "print(entropy_data1)"
   ]
  },
  {
   "cell_type": "code",
   "execution_count": 44,
   "metadata": {},
   "outputs": [
    {
     "name": "stdout",
     "output_type": "stream",
     "text": [
      "Mild    2\n",
      "Hot     2\n",
      "Cool    1\n",
      "Name: 2, dtype: int64\n",
      "       2    5\n",
      "0    Hot   No\n",
      "1    Hot   No\n",
      "7   Mild   No\n",
      "8   Cool  Yes\n",
      "10  Mild  Yes\n",
      "0.5709505944546686\n"
     ]
    }
   ],
   "source": [
    "#计算特征1的信息增益\n",
    "print(data1.iloc[:, 1].value_counts())\n",
    "print(data1.iloc[:, [1,4]])\n",
    "condition_entropy_feature1 = 2/5 * (-1/2 * np.log2(1/2) - 1/2 * np.log2(1/2)) + 2/5 * (-2/2 * np.log2(2/2)) + 1/5 * (-1/1 * np.log2(1/1))\n",
    "info_gain1 = entropy_data1 - condition_entropy_feature1\n",
    "print(info_gain1)"
   ]
  },
  {
   "cell_type": "code",
   "execution_count": 47,
   "metadata": {},
   "outputs": [
    {
     "name": "stdout",
     "output_type": "stream",
     "text": [
      "High      3\n",
      "Normal    2\n",
      "Name: 3, dtype: int64\n",
      "         3    5\n",
      "0     High   No\n",
      "1     High   No\n",
      "7     High   No\n",
      "8   Normal  Yes\n",
      "10  Normal  Yes\n",
      "0.9709505944546686\n"
     ]
    }
   ],
   "source": [
    "#计算特征2的信息增益\n",
    "print(data1.iloc[:, 2].value_counts())\n",
    "print(data1.iloc[:, [2,4]])\n",
    "condition_entropy_feature2 = 3/5 * (-3/3 * np.log2(3/3))+ 2/5 * (-2/2 * np.log2(2/2))\n",
    "info_gain2 = entropy_data1- condition_entropy_feature2\n",
    "print(info_gain2)"
   ]
  },
  {
   "cell_type": "code",
   "execution_count": 49,
   "metadata": {},
   "outputs": [
    {
     "name": "stdout",
     "output_type": "stream",
     "text": [
      "Weak      3\n",
      "Strong    2\n",
      "Name: 4, dtype: int64\n",
      "         4    5\n",
      "0     Weak   No\n",
      "1   Strong   No\n",
      "7     Weak   No\n",
      "8     Weak  Yes\n",
      "10  Strong  Yes\n",
      "0.01997309402197489\n"
     ]
    }
   ],
   "source": [
    "#计算特征3的信息增益\n",
    "print(data1.iloc[:, 3].value_counts())\n",
    "print(data1.iloc[:, [3,4]])\n",
    "condition_entropy_feature3 = 3/5 * (-1/3 * np.log2(1/3) - 2/3 * np.log2(2/3)) + 2/5 * (-1/2 * np.log2(1/2) - 1/2 * np.log2(1/2))\n",
    "info_gain3 = entropy_data1 - condition_entropy_feature3\n",
    "print(info_gain3)"
   ]
  },
  {
   "cell_type": "code",
   "execution_count": 51,
   "metadata": {},
   "outputs": [
    {
     "name": "stdout",
     "output_type": "stream",
     "text": [
      "       1     2       3       4    5\n",
      "3   Rain  Mild    High    Weak  Yes\n",
      "4   Rain  Cool  Normal    Weak  Yes\n",
      "5   Rain  Cool  Normal  Strong   No\n",
      "9   Rain  Mild  Normal    Weak  Yes\n",
      "13  Rain  Mild    High  Strong   No\n",
      "0.9709505944546686\n"
     ]
    }
   ],
   "source": [
    "#特征2的信息增益最大，使用特征2划分，划分之后每个子分支的样本属于同一个类，所以划分结束\n",
    "#接下来对data2进行划分\n",
    "print(data2)\n",
    "entropy_data2 = -3/5 * np.log2(3/5) - 2/5 * np.log2(2/5)\n",
    "print(entropy_data2)"
   ]
  },
  {
   "cell_type": "code",
   "execution_count": 55,
   "metadata": {},
   "outputs": [
    {
     "name": "stdout",
     "output_type": "stream",
     "text": [
      "Mild    3\n",
      "Cool    2\n",
      "Name: 2, dtype: int64\n",
      "       2    5\n",
      "3   Mild  Yes\n",
      "4   Cool  Yes\n",
      "5   Cool   No\n",
      "9   Mild  Yes\n",
      "13  Mild   No\n",
      "0.01997309402197489\n"
     ]
    }
   ],
   "source": [
    "#计算特征1的信息增益\n",
    "print(data2.iloc[:, 1].value_counts())\n",
    "print(data2.iloc[:, [1,4]])\n",
    "condition_entropy_feature1 = 3/5 * (-2/3 * np.log2(2/3) - 1/3 * np.log2(1/3)) + 2/5 * (-1/2 * np.log2(1/2) - 1/2 * np.log2(1/2))\n",
    "info_gain1 = entropy_data2 - condition_entropy_feature1\n",
    "print(info_gain1)"
   ]
  },
  {
   "cell_type": "code",
   "execution_count": 57,
   "metadata": {},
   "outputs": [
    {
     "name": "stdout",
     "output_type": "stream",
     "text": [
      "Normal    3\n",
      "High      2\n",
      "Name: 3, dtype: int64\n",
      "         3    5\n",
      "3     High  Yes\n",
      "4   Normal  Yes\n",
      "5   Normal   No\n",
      "9   Normal  Yes\n",
      "13    High   No\n",
      "0.01997309402197489\n"
     ]
    }
   ],
   "source": [
    "#计算特征2的信息增益\n",
    "print(data2.iloc[:, 2].value_counts())\n",
    "print(data2.iloc[:, [2, 4]])\n",
    "condition_entropy_feature2 = 3/5 * (-2/3 * np.log2(2/3) - 1/3 * np.log2(1/3)) + 2/5 * (-1/2 * np.log2(1/2) - 1/2 * np.log2(1/2))\n",
    "info_gain2 = entropy_data2 - condition_entropy_feature2\n",
    "print(info_gain2)"
   ]
  },
  {
   "cell_type": "code",
   "execution_count": 59,
   "metadata": {},
   "outputs": [
    {
     "name": "stdout",
     "output_type": "stream",
     "text": [
      "Weak      3\n",
      "Strong    2\n",
      "Name: 4, dtype: int64\n",
      "         4    5\n",
      "3     Weak  Yes\n",
      "4     Weak  Yes\n",
      "5   Strong   No\n",
      "9     Weak  Yes\n",
      "13  Strong   No\n",
      "0.9709505944546686\n"
     ]
    }
   ],
   "source": [
    "#计算特征3的信息增益\n",
    "print(data2.iloc[:, 3].value_counts())\n",
    "print(data2.iloc[:, [3, 4]])\n",
    "condition_entropy_feature3 = 3/5 * (-3/3 * np.log2(3/3)) + 2/5 * (-2/2 * np.log2(2/2))\n",
    "info_gain3 = entropy_data2 - condition_entropy_feature3\n",
    "print(info_gain3)"
   ]
  },
  {
   "cell_type": "code",
   "execution_count": null,
   "metadata": {},
   "outputs": [],
   "source": [
    "#特征3的信息增益最大，选择特征3作为划分的特征点，划分之后，子分支的样本都属于同类别，所有ID3算法结束，得到决策树"
   ]
  }
 ],
 "metadata": {
  "kernelspec": {
   "display_name": "Python 3",
   "language": "python",
   "name": "python3"
  },
  "language_info": {
   "codemirror_mode": {
    "name": "ipython",
    "version": 3
   },
   "file_extension": ".py",
   "mimetype": "text/x-python",
   "name": "python",
   "nbconvert_exporter": "python",
   "pygments_lexer": "ipython3",
   "version": "3.6.5"
  }
 },
 "nbformat": 4,
 "nbformat_minor": 2
}
