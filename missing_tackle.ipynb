{
 "cells": [
  {
   "cell_type": "code",
   "execution_count": 1,
   "metadata": {},
   "outputs": [],
   "source": [
    "import pandas as pd\n",
    "import numpy as np"
   ]
  },
  {
   "cell_type": "code",
   "execution_count": 3,
   "metadata": {},
   "outputs": [],
   "source": [
    "data = pd.read_csv('./missing_values_dataset.csv')"
   ]
  },
  {
   "cell_type": "code",
   "execution_count": 9,
   "metadata": {
    "scrolled": true
   },
   "outputs": [
    {
     "name": "stdout",
     "output_type": "stream",
     "text": [
      "    色泽  根蒂  敲击  纹理  脐部  触感 好瓜\n",
      "0    -  蜷缩  浊响  清晰  凹陷  硬滑  是\n",
      "1   乌黑  蜷缩  沉闷  清晰  凹陷   -  是\n",
      "2   乌黑  蜷缩   -  清晰  凹陷  硬滑  是\n",
      "3   青绿  蜷缩  沉闷  清晰  凹陷  硬滑  是\n",
      "4    -  蜷缩  浊响  清晰  凹陷  硬滑  是\n",
      "5   青绿  稍蜷  浊响  清晰   -  软粘  是\n",
      "6   乌黑  稍蜷  浊响  稍糊  稍凹  软粘  是\n",
      "7   乌黑  稍蜷  浊响   -  稍凹  硬滑  是\n",
      "8   乌黑   -  沉闷  稍糊  稍凹  硬滑  否\n",
      "9   青绿  硬挺  清脆   -  平坦  软粘  否\n",
      "10  浅白  硬挺  清脆  模糊  平坦   -  否\n",
      "11  浅白  蜷缩   -  模糊  平坦  软粘  否\n",
      "12   -  稍蜷  浊响  稍糊  凹陷  硬滑  否\n",
      "13  浅白  稍蜷  沉闷  稍糊  凹陷  硬滑  否\n",
      "14  乌黑  稍蜷  浊响  清晰   -  软粘  否\n",
      "15  浅白  蜷缩  浊响  模糊  平坦  硬滑  否\n",
      "16  青绿   -  沉闷  稍糊  稍凹  硬滑  否\n"
     ]
    }
   ],
   "source": [
    "print(data.iloc[:, 0:7])"
   ]
  },
  {
   "cell_type": "code",
   "execution_count": 10,
   "metadata": {},
   "outputs": [],
   "source": [
    "#对于有缺失值的属性a计算信息增益，首先找出在该属性a上不是缺失值的样本集A，标记权重为p，然后在样本集A上计算属性a的信息增益，最后乘以权重p即可。\n",
    "#权重p的计算方式在属性a上不是缺失值的样本的样本权重之和除以总样本的权重之和。每个样本的权重可能会发生变化，比如在构建树的过程中某个样本在属性a\n",
    "#上的取值为缺失值，则需要将该样本分给属性a下面的所有子节点上，在每个子节点上该样本的权重为属于子节点的样本权重之和除以属性a的样本权重之和。"
   ]
  },
  {
   "cell_type": "code",
   "execution_count": 16,
   "metadata": {},
   "outputs": [
    {
     "name": "stdout",
     "output_type": "stream",
     "text": [
      "0.2519658176560344\n",
      "乌黑    6\n",
      "青绿    4\n",
      "浅白    4\n",
      "-     3\n",
      "Name: 色泽, dtype: int64\n",
      "    色泽 好瓜\n",
      "0    -  是\n",
      "1   乌黑  是\n",
      "2   乌黑  是\n",
      "3   青绿  是\n",
      "4    -  是\n",
      "5   青绿  是\n",
      "6   乌黑  是\n",
      "7   乌黑  是\n",
      "8   乌黑  否\n",
      "9   青绿  否\n",
      "10  浅白  否\n",
      "11  浅白  否\n",
      "12   -  否\n",
      "13  浅白  否\n",
      "14  乌黑  否\n",
      "15  浅白  否\n",
      "16  青绿  否\n"
     ]
    }
   ],
   "source": [
    "#首先计算属性色泽的信息增益\n",
    "p_1 = 14/17\n",
    "entropy_data_1 = -6/14 * np.log2(6/14) - 8/14*np.log2(8/14)\n",
    "condition_entropy_1 = 6/14*(-4/6*np.log2(4/6)-2/6*np.log2(2/6)) + 4/14*(-2/4*np.log2(2/4)-2/4*np.log2(2/4)) + 4/14*(-4/4*np.log2(4/4))\n",
    "info_gain_1 = p_1 * (entropy_data_1 - condition_entropy_1)\n",
    "print(info_gain_1)\n",
    "print(data['色泽'].value_counts())\n",
    "print(data[['色泽', '好瓜']])"
   ]
  },
  {
   "cell_type": "code",
   "execution_count": 18,
   "metadata": {},
   "outputs": [
    {
     "name": "stdout",
     "output_type": "stream",
     "text": [
      "蜷缩    7\n",
      "稍蜷    6\n",
      "-     2\n",
      "硬挺    2\n",
      "Name: 根蒂, dtype: int64\n",
      "    根蒂 好瓜\n",
      "0   蜷缩  是\n",
      "1   蜷缩  是\n",
      "2   蜷缩  是\n",
      "3   蜷缩  是\n",
      "4   蜷缩  是\n",
      "5   稍蜷  是\n",
      "6   稍蜷  是\n",
      "7   稍蜷  是\n",
      "8    -  否\n",
      "9   硬挺  否\n",
      "10  硬挺  否\n",
      "11  蜷缩  否\n",
      "12  稍蜷  否\n",
      "13  稍蜷  否\n",
      "14  稍蜷  否\n",
      "15  蜷缩  否\n",
      "16   -  否\n",
      "0.17117826469165479\n"
     ]
    }
   ],
   "source": [
    "#计算根蒂的信息增益\n",
    "print(data['根蒂'].value_counts())\n",
    "print(data[['根蒂', '好瓜']])\n",
    "p_2 = 15/17\n",
    "entropy_data_2 = -8/15*np.log2(8/15) - 7/15*np.log2(7/15)\n",
    "condition_entropy_2 = 7/15*(-5/7*np.log2(5/7)-2/7*np.log2(2/7)) + 6/15*(-3/6*np.log2(3/6)-3/6*np.log2(3/6)) + 2/15*(-2/2*np.log2(2/2))\n",
    "info_gain_2 = p_2 * (entropy_data_2 - condition_entropy_2)\n",
    "print(info_gain_2)"
   ]
  },
  {
   "cell_type": "code",
   "execution_count": 21,
   "metadata": {},
   "outputs": [
    {
     "name": "stdout",
     "output_type": "stream",
     "text": [
      "浊响    8\n",
      "沉闷    5\n",
      "-     2\n",
      "清脆    2\n",
      "Name: 敲击, dtype: int64\n",
      "    敲击 好瓜\n",
      "0   浊响  是\n",
      "1   沉闷  是\n",
      "2    -  是\n",
      "3   沉闷  是\n",
      "4   浊响  是\n",
      "5   浊响  是\n",
      "6   浊响  是\n",
      "7   浊响  是\n",
      "8   沉闷  否\n",
      "9   清脆  否\n",
      "10  清脆  否\n",
      "11   -  否\n",
      "12  浊响  否\n",
      "13  沉闷  否\n",
      "14  浊响  否\n",
      "15  浊响  否\n",
      "16  沉闷  否\n",
      "0.14480291082655797\n"
     ]
    }
   ],
   "source": [
    "#计算敲声的信息增益\n",
    "print(data['敲击'].value_counts())\n",
    "print(data[['敲击', '好瓜']])\n",
    "p_3 = 15/17\n",
    "entropy_data_3 = -8/15*np.log2(8/15) - 7/15*np.log2(7/15)\n",
    "condition_entropy_3 = 8/15 * (-5/8*np.log2(5/8) - 3/8*np.log2(3/8)) + 5/15*(-2/5*np.log2(2/5)-3/5*np.log2(3/5)) + 2/15*(-2/2*np.log2(2/2))\n",
    "info_gain_3 = p_3 * (entropy_data_3 - condition_entropy_3)\n",
    "print(info_gain_3)"
   ]
  },
  {
   "cell_type": "code",
   "execution_count": 23,
   "metadata": {},
   "outputs": [
    {
     "name": "stdout",
     "output_type": "stream",
     "text": [
      "清晰    7\n",
      "稍糊    5\n",
      "模糊    3\n",
      "-     2\n",
      "Name: 纹理, dtype: int64\n",
      "    纹理 好瓜\n",
      "0   清晰  是\n",
      "1   清晰  是\n",
      "2   清晰  是\n",
      "3   清晰  是\n",
      "4   清晰  是\n",
      "5   清晰  是\n",
      "6   稍糊  是\n",
      "7    -  是\n",
      "8   稍糊  否\n",
      "9    -  否\n",
      "10  模糊  否\n",
      "11  模糊  否\n",
      "12  稍糊  否\n",
      "13  稍糊  否\n",
      "14  清晰  否\n",
      "15  模糊  否\n",
      "16  稍糊  否\n",
      "0.42356026795361434\n"
     ]
    }
   ],
   "source": [
    "#计算纹理的信息增益\n",
    "print(data['纹理'].value_counts())\n",
    "print(data[['纹理', '好瓜']])\n",
    "p_4 = 15 / 17\n",
    "entropy_data_4 = -8/15 * np.log2(8/15) - 7/15*np.log2(7/15)\n",
    "condition_entropy_4 = 7/15*(-6/7*np.log2(6/7)-1/7*np.log2(1/7)) + 5/15*(-1/5*np.log2(1/5)-4/5*np.log2(4/5)) + 3/15*(-3/3*np.log2(3/3))\n",
    "info_gain_4 = p_4 * (entropy_data_4 - condition_entropy_4)\n",
    "print(info_gain_4)"
   ]
  },
  {
   "cell_type": "code",
   "execution_count": 25,
   "metadata": {},
   "outputs": [
    {
     "name": "stdout",
     "output_type": "stream",
     "text": [
      "凹陷    7\n",
      "平坦    4\n",
      "稍凹    4\n",
      "-     2\n",
      "Name: 脐部, dtype: int64\n",
      "    脐部 好瓜\n",
      "0   凹陷  是\n",
      "1   凹陷  是\n",
      "2   凹陷  是\n",
      "3   凹陷  是\n",
      "4   凹陷  是\n",
      "5    -  是\n",
      "6   稍凹  是\n",
      "7   稍凹  是\n",
      "8   稍凹  否\n",
      "9   平坦  否\n",
      "10  平坦  否\n",
      "11  平坦  否\n",
      "12  凹陷  否\n",
      "13  凹陷  否\n",
      "14   -  否\n",
      "15  平坦  否\n",
      "16  稍凹  否\n",
      "0.2888253235151842\n"
     ]
    }
   ],
   "source": [
    "#计算脐部的信息增益\n",
    "print(data['脐部'].value_counts())\n",
    "print(data[['脐部', '好瓜']])\n",
    "p_5 = 15/17\n",
    "entropy_data_5 = -8/15*np.log2(8/15) - 7/15 * np.log2(7/15)\n",
    "condition_entropy_5 = 7/15*(-5/7*np.log2(5/7)-2/7*np.log2(2/7)) + 4/15*(-4/4*np.log2(4/4)) + 4/15*(-2/4*np.log2(2/4)-2/4*np.log2(2/4))\n",
    "info_gain_5 = p_5 * (entropy_data_5 - condition_entropy_5)\n",
    "print(info_gain_5)"
   ]
  },
  {
   "cell_type": "code",
   "execution_count": 28,
   "metadata": {},
   "outputs": [
    {
     "name": "stdout",
     "output_type": "stream",
     "text": [
      "硬滑    10\n",
      "软粘     5\n",
      "-      2\n",
      "Name: 触感, dtype: int64\n",
      "    触感 好瓜\n",
      "0   硬滑  是\n",
      "1    -  是\n",
      "2   硬滑  是\n",
      "3   硬滑  是\n",
      "4   硬滑  是\n",
      "5   软粘  是\n",
      "6   软粘  是\n",
      "7   硬滑  是\n",
      "8   硬滑  否\n",
      "9   软粘  否\n",
      "10   -  否\n",
      "11  软粘  否\n",
      "12  硬滑  否\n",
      "13  硬滑  否\n",
      "14  软粘  否\n",
      "15  硬滑  否\n",
      "16  硬滑  否\n",
      "0.005713029850070978\n"
     ]
    }
   ],
   "source": [
    "#计算触感的信息增益\n",
    "print(data['触感'].value_counts())\n",
    "print(data[['触感', '好瓜']])\n",
    "p_6 = 15/17\n",
    "entropy_data_6 = -8/15*np.log2(8/15) - 7/15*np.log2(7/15)\n",
    "condition_entropy_6 = 10/15*(-5/10*np.log2(5/10)-5/10*np.log2(5/10)) + 5/15*(-2/5*np.log2(2/5)-3/5*np.log2(3/5))\n",
    "info_gain_6 = p_6 * (entropy_data_6 - condition_entropy_6)\n",
    "print(info_gain_6)"
   ]
  },
  {
   "cell_type": "code",
   "execution_count": 29,
   "metadata": {},
   "outputs": [
    {
     "name": "stdout",
     "output_type": "stream",
     "text": [
      "0     清晰\n",
      "1     清晰\n",
      "2     清晰\n",
      "3     清晰\n",
      "4     清晰\n",
      "5     清晰\n",
      "6     稍糊\n",
      "7      -\n",
      "8     稍糊\n",
      "9      -\n",
      "10    模糊\n",
      "11    模糊\n",
      "12    稍糊\n",
      "13    稍糊\n",
      "14    清晰\n",
      "15    模糊\n",
      "16    稍糊\n",
      "Name: 纹理, dtype: object\n"
     ]
    }
   ],
   "source": [
    "#其中纹理的信息增益最大，所以纹理作为根节点，可以看到第8个样本和第10个样本为缺失值，所以这两个样本将分到纹理下面的三个分支，\n",
    "#分到稍糊分支下的权重为5/15，清晰分支下的权重为7/15，模糊分支下的权重为3/15，所以在这三个分支下，第8个样本的权重分别为5/15,7/15,3/15，第10样本同\n",
    "print(data['纹理'])"
   ]
  },
  {
   "cell_type": "code",
   "execution_count": 40,
   "metadata": {},
   "outputs": [
    {
     "name": "stdout",
     "output_type": "stream",
     "text": [
      "乌黑    3\n",
      "青绿    2\n",
      "-     1\n",
      "浅白    1\n",
      "Name: 色泽, dtype: int64\n",
      "    色泽 好瓜\n",
      "6   乌黑  是\n",
      "7   乌黑  是\n",
      "8   乌黑  否\n",
      "9   青绿  否\n",
      "12   -  否\n",
      "13  浅白  否\n",
      "16  青绿  否\n",
      "0.30512300045253377\n"
     ]
    }
   ],
   "source": [
    "#第二轮计算稍糊分支下每个属性的信息增益\n",
    "#计算色泽的信息增益\n",
    "data_1 = data[(data['纹理'] == '稍糊') | (data['纹理'] == '-')]\n",
    "print(data_1['色泽'].value_counts())\n",
    "print(data_1[['色泽', '好瓜']])\n",
    "sum_w = 1+5/15+1+5/15+1+1+1#算缺失值的样本总权重\n",
    "sum_w_1 = 1+5/15+1+5/15+1+1#不算缺失值的样本集总权重\n",
    "p_data1_1 = (1+5/15+1+5/15+1+1)/sum_w\n",
    "entropy_data1_1 = -(1+5/15)/sum_w_1*(np.log2((1+5/15)/sum_w_1)) - (1+5/15+1+1)/sum_w_1*np.log2((1+5/15+1+1)/sum_w_1)\n",
    "bufen1 = (1+5/15+1)/sum_w_1*(-1*(1+5/15)/(1+5/15+1)*np.log2((1+5/15)/(1+5/15+1))-1/(1+5/15+1)*np.log2(1/(1+5/15+1)))\n",
    "bufen2 = (5/15 + 1)/sum_w_1 * (-1*(5/15+1)/(5/15+1)*np.log2((5/15+1)/(5/15+1)))\n",
    "bufen3 = 1/(sum_w_1)*(-1/1*np.log2(1/1))\n",
    "condition_entropy_data1_1 = bufen1 + bufen2 + bufen3 \n",
    "info_gain_data1_1 = p_data1_1 * (entropy_data1_1 - condition_entropy_data1_1)\n",
    "print(info_gain_data1_1)"
   ]
  },
  {
   "cell_type": "code",
   "execution_count": 43,
   "metadata": {},
   "outputs": [
    {
     "name": "stdout",
     "output_type": "stream",
     "text": [
      "稍蜷    4\n",
      "-     2\n",
      "硬挺    1\n",
      "Name: 根蒂, dtype: int64\n",
      "    根蒂 好瓜\n",
      "6   稍蜷  是\n",
      "7   稍蜷  是\n",
      "8    -  否\n",
      "9   硬挺  否\n",
      "12  稍蜷  否\n",
      "13  稍蜷  否\n",
      "16   -  否\n",
      "0.038707617038526286\n"
     ]
    }
   ],
   "source": [
    "#计算根蒂的信息增益\n",
    "print(data_1['根蒂'].value_counts())\n",
    "print(data_1[['根蒂', '好瓜']])\n",
    "sum_w = 1 + 5/15 + 1 + 5/15 + 1 + 1 + 1\n",
    "sum_w_2 = 1 + 5/15 + 1 + 5/15 + 1\n",
    "p_data1_2 = sum_w_2/sum_w\n",
    "entropy_data1_2 = -(1+5/15)/sum_w_2 * np.log2((1+5/15)/sum_w_2)-(5/15+1+1)/(sum_w_2)*np.log2((5/15+1+1)/(sum_w_2))\n",
    "bufen1 = (1+5/15+1+1)/sum_w_2*(-(1+5/15)/(1+5/15+1+1)*np.log2((1+5/15)/(1+5/15+1+1))-(1+1)/(1+5/15+1+1)*np.log2((1+1)/(1+5/15+1+1)))\n",
    "bufen2 = 5/15/(sum_w_2) * (-5/15/5/15*np.log2(5/15/5/15))\n",
    "condition_entropy_data1_2 = bufen1 + bufen2\n",
    "info_gain_data1_2 = p_data1_2 * (entropy_data1_2 - condition_entropy_data1_2)\n",
    "print(info_gain_data1_2)"
   ]
  },
  {
   "cell_type": "code",
   "execution_count": 46,
   "metadata": {},
   "outputs": [
    {
     "name": "stdout",
     "output_type": "stream",
     "text": [
      "浊响    3\n",
      "沉闷    3\n",
      "清脆    1\n",
      "Name: 敲击, dtype: int64\n",
      "    敲击 好瓜\n",
      "6   浊响  是\n",
      "7   浊响  是\n",
      "8   沉闷  否\n",
      "9   清脆  否\n",
      "12  浊响  否\n",
      "13  沉闷  否\n",
      "16  沉闷  否\n",
      "0.3814444125401065\n"
     ]
    }
   ],
   "source": [
    "#计算敲击的信息增益\n",
    "print(data_1['敲击'].value_counts())\n",
    "print(data_1[['敲击', '好瓜']])\n",
    "sum_w = 1+5/15+1+5/15+1+1+1\n",
    "sum_w_3 = sum_w\n",
    "p_data1_3 = sum_w_3/sum_w\n",
    "entropy_data1_3 = -(1+5/15)/sum_w_3*np.log2((1+5/15)/sum_w_3)-(1+5/15+1+1+1)/sum_w_3*np.log2((1+5/15+1+1+1)/sum_w_3)\n",
    "bufen1 = (1+5/15+1)/sum_w_3*(-(1+5/15)/(1+5/15+1)*np.log2((1+5/15)/(1+5/15+1))-1/(1+5/15+1)*np.log2(1/(1+5/15+1)))\n",
    "bufen2 = 3/sum_w_3*(-3/3*np.log2(3/3))\n",
    "bufen3 = 5/15/sum_w_3*(-(5/15)/(5/15)*np.log2((5/15)/(5/15)))\n",
    "condition_data1_3 = bufen1+bufen2+bufen3\n",
    "info_gain_data1_3 = p_data1_3 * (entropy_data1_3 - condition_data1_3)\n",
    "print(info_gain_data1_3)"
   ]
  },
  {
   "cell_type": "code",
   "execution_count": 48,
   "metadata": {},
   "outputs": [
    {
     "name": "stdout",
     "output_type": "stream",
     "text": [
      "稍凹    4\n",
      "凹陷    2\n",
      "平坦    1\n",
      "Name: 脐部, dtype: int64\n",
      "    脐部 好瓜\n",
      "6   稍凹  是\n",
      "7   稍凹  是\n",
      "8   稍凹  否\n",
      "9   平坦  否\n",
      "12  凹陷  否\n",
      "13  凹陷  否\n",
      "16  稍凹  否\n",
      "0.2159791776985226\n"
     ]
    }
   ],
   "source": [
    "#计算脐部的信息增益\n",
    "print(data_1['脐部'].value_counts())\n",
    "print(data_1[['脐部','好瓜']])\n",
    "sum_w = 1+5/15+1+5/15+1+1+1\n",
    "sum_w_4 = sum_w\n",
    "p_data1_4 = sum_w_4/sum_w\n",
    "entropy_data1_4 = -(1+5/15)/sum_w_4*np.log2((1+5/15)/sum_w_4)-(1+5/15+1+1+1)/sum_w_4*np.log2((1+5/15+1+1+1)/sum_w_4)\n",
    "bufen1 = (1+5/15+1+1)/sum_w_4*(-(1+5/15)/(1+5/15+1+1)*np.log2((1+5/15)/(1+5/15+1+1))-2/(1+5/15+1+1)*np.log2(2/(1+5/15+1+1)))\n",
    "bufen2 = 2/sum_w_4*(-2/2*np.log(2/2))\n",
    "bufen3 = 5/15/sum_w_4*(-(5/15)/(5/15)*np.log2((5/15)/(5/15)))\n",
    "condition_entropy_data1_4 = bufen1+bufen2+bufen3\n",
    "info_gain_data1_4 = p_data1_4 * (entropy_data1_4 - condition_entropy_data1_4)\n",
    "print(info_gain_data1_4)"
   ]
  },
  {
   "cell_type": "code",
   "execution_count": 51,
   "metadata": {},
   "outputs": [
    {
     "name": "stdout",
     "output_type": "stream",
     "text": [
      "硬滑    5\n",
      "软粘    2\n",
      "Name: 触感, dtype: int64\n",
      "    触感 好瓜\n",
      "6   软粘  是\n",
      "7   硬滑  是\n",
      "8   硬滑  否\n",
      "9   软粘  否\n",
      "12  硬滑  否\n",
      "13  硬滑  否\n",
      "16  硬滑  否\n",
      "0.2970513612002773\n"
     ]
    }
   ],
   "source": [
    "#计算触感的信息增益\n",
    "print(data_1['触感'].value_counts())\n",
    "print(data_1[['触感', '好瓜']])\n",
    "sum_w = 1+5/15+1+5/15+1+1+1\n",
    "sum_w_5 = sum_w\n",
    "p_data1_5 = sum_w/sum_w_5\n",
    "entropy_data1_5 = -(1+5/15)/sum_w_5*np.log2((1+5/15)/sum_w_5)-(1+5/15+1+1+1)/sum_w_5*np.log2((1+5/15+1+1+1)/sum_w_5)\n",
    "bufen1 = (5/15 + 1+1+1+1)/sum_w_5*(-(5/15)/(5/15+1+1+1+1)*np.log2((5/15)/(5/15+1+1+1+1))-4/(5/15+4)*np.log2(4/(5/15+4)))\n",
    "bufen2 = (1+5/15)/sum_w_5*(-1/(1+5/15)*np.log2(1/(1+5/15))-(5/15)/(1+5/15)*np.log2((5/15)/(1+5/15)))\n",
    "condition_entropy_data1_5 = bufen1 + bufen2\n",
    "info_gain_data1_5 = p_data1_5 * (entropy_data1_5 - condition_entropy_data1_5)\n",
    "print(info_gain_data1_5)"
   ]
  },
  {
   "cell_type": "code",
   "execution_count": null,
   "metadata": {},
   "outputs": [],
   "source": [
    "#其中敲击的信息增益最大，所以选择触感作为分支点，其他的类似递归做即可"
   ]
  },
  {
   "cell_type": "code",
   "execution_count": null,
   "metadata": {},
   "outputs": [],
   "source": [
    "#剪枝看西瓜书\n",
    "#sklearn中对于树的停止如下描述：\n",
    "#The default values for the parameters controlling the size of the trees (e.g. max_depth, min_samples_leaf, etc.) lead to fully grown and unpruned trees which can potentially be very large on some data sets. To reduce memory consumption, the complexity and size of the trees should be controlled by setting those parameter values.\n",
    "#The features are always randomly permuted at each split. Therefore, the best found split may vary, even with the same training data and max_features=n_features, if the improvement of the criterion is identical for several splits enumerated during the search of the best split. To obtain a deterministic behaviour during fitting, random_state has to be fixed.\n",
    "#为什么说每次划分选到的最优属性会不同，会有这样的情况，在每次划分之前所有属性都会被排序，所以每次属性的排列顺序都不一样，算出每个属性的信息增益后\n",
    "#会选择信息增益最大的属性作为划分点，如果此时信息增益最大属性不止一个，那么就会选择顺序排在最前面的属性，所以这就会存在一定的随机性"
   ]
  }
 ],
 "metadata": {
  "kernelspec": {
   "display_name": "Python 3",
   "language": "python",
   "name": "python3"
  },
  "language_info": {
   "codemirror_mode": {
    "name": "ipython",
    "version": 3
   },
   "file_extension": ".py",
   "mimetype": "text/x-python",
   "name": "python",
   "nbconvert_exporter": "python",
   "pygments_lexer": "ipython3",
   "version": "3.6.5"
  }
 },
 "nbformat": 4,
 "nbformat_minor": 2
}
