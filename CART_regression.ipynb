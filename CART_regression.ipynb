{
 "cells": [
  {
   "cell_type": "code",
   "execution_count": 1,
   "metadata": {},
   "outputs": [],
   "source": [
    "import numpy as np\n",
    "import pandas as pd"
   ]
  },
  {
   "cell_type": "code",
   "execution_count": 2,
   "metadata": {},
   "outputs": [],
   "source": [
    "data = pd.read_csv('./CART_dataset.csv')"
   ]
  },
  {
   "cell_type": "code",
   "execution_count": 5,
   "metadata": {},
   "outputs": [
    {
     "data": {
      "text/html": [
       "<div>\n",
       "<style scoped>\n",
       "    .dataframe tbody tr th:only-of-type {\n",
       "        vertical-align: middle;\n",
       "    }\n",
       "\n",
       "    .dataframe tbody tr th {\n",
       "        vertical-align: top;\n",
       "    }\n",
       "\n",
       "    .dataframe thead th {\n",
       "        text-align: right;\n",
       "    }\n",
       "</style>\n",
       "<table border=\"1\" class=\"dataframe\">\n",
       "  <thead>\n",
       "    <tr style=\"text-align: right;\">\n",
       "      <th></th>\n",
       "      <th>turtorials</th>\n",
       "      <th>labs</th>\n",
       "      <th>exam</th>\n",
       "    </tr>\n",
       "  </thead>\n",
       "  <tbody>\n",
       "    <tr>\n",
       "      <th>0</th>\n",
       "      <td>all</td>\n",
       "      <td>complete</td>\n",
       "      <td>74</td>\n",
       "    </tr>\n",
       "    <tr>\n",
       "      <th>1</th>\n",
       "      <td>some</td>\n",
       "      <td>partial</td>\n",
       "      <td>23</td>\n",
       "    </tr>\n",
       "    <tr>\n",
       "      <th>2</th>\n",
       "      <td>all</td>\n",
       "      <td>complete</td>\n",
       "      <td>61</td>\n",
       "    </tr>\n",
       "    <tr>\n",
       "      <th>3</th>\n",
       "      <td>all</td>\n",
       "      <td>complete</td>\n",
       "      <td>74</td>\n",
       "    </tr>\n",
       "    <tr>\n",
       "      <th>4</th>\n",
       "      <td>some</td>\n",
       "      <td>partial</td>\n",
       "      <td>25</td>\n",
       "    </tr>\n",
       "    <tr>\n",
       "      <th>5</th>\n",
       "      <td>all</td>\n",
       "      <td>complete</td>\n",
       "      <td>61</td>\n",
       "    </tr>\n",
       "    <tr>\n",
       "      <th>6</th>\n",
       "      <td>some</td>\n",
       "      <td>complete</td>\n",
       "      <td>54</td>\n",
       "    </tr>\n",
       "    <tr>\n",
       "      <th>7</th>\n",
       "      <td>some</td>\n",
       "      <td>partial</td>\n",
       "      <td>42</td>\n",
       "    </tr>\n",
       "    <tr>\n",
       "      <th>8</th>\n",
       "      <td>some</td>\n",
       "      <td>complete</td>\n",
       "      <td>55</td>\n",
       "    </tr>\n",
       "    <tr>\n",
       "      <th>9</th>\n",
       "      <td>all</td>\n",
       "      <td>complete</td>\n",
       "      <td>75</td>\n",
       "    </tr>\n",
       "    <tr>\n",
       "      <th>10</th>\n",
       "      <td>some</td>\n",
       "      <td>partial</td>\n",
       "      <td>13</td>\n",
       "    </tr>\n",
       "    <tr>\n",
       "      <th>11</th>\n",
       "      <td>all</td>\n",
       "      <td>complete</td>\n",
       "      <td>73</td>\n",
       "    </tr>\n",
       "    <tr>\n",
       "      <th>12</th>\n",
       "      <td>some</td>\n",
       "      <td>partial</td>\n",
       "      <td>31</td>\n",
       "    </tr>\n",
       "    <tr>\n",
       "      <th>13</th>\n",
       "      <td>some</td>\n",
       "      <td>partial</td>\n",
       "      <td>12</td>\n",
       "    </tr>\n",
       "    <tr>\n",
       "      <th>14</th>\n",
       "      <td>some</td>\n",
       "      <td>partial</td>\n",
       "      <td>11</td>\n",
       "    </tr>\n",
       "  </tbody>\n",
       "</table>\n",
       "</div>"
      ],
      "text/plain": [
       "   turtorials      labs  exam\n",
       "0         all  complete    74\n",
       "1        some   partial    23\n",
       "2         all  complete    61\n",
       "3         all  complete    74\n",
       "4        some   partial    25\n",
       "5         all  complete    61\n",
       "6        some  complete    54\n",
       "7        some   partial    42\n",
       "8        some  complete    55\n",
       "9         all  complete    75\n",
       "10       some   partial    13\n",
       "11        all  complete    73\n",
       "12       some   partial    31\n",
       "13       some   partial    12\n",
       "14       some   partial    11"
      ]
     },
     "execution_count": 5,
     "metadata": {},
     "output_type": "execute_result"
    }
   ],
   "source": [
    "data"
   ]
  },
  {
   "cell_type": "code",
   "execution_count": 12,
   "metadata": {},
   "outputs": [
    {
     "name": "stdout",
     "output_type": "stream",
     "text": [
      "69.66666666666667 29.555555555555557 2619.5555555555557\n"
     ]
    }
   ],
   "source": [
    "#切分变量为turtorials,该特征的取值为2种，所以直接计算其均方误差\n",
    "turtorials_c1 = np.mean(data[data.turtorials == 'all']['exam'])\n",
    "turtorials_c2 = np.mean(data[data.turtorials == 'some']['exam'])\n",
    "turtorials_exam1 = data[data.turtorials == 'all']['exam'].values\n",
    "turtorials_exam2 = data[data.turtorials == 'some']['exam'].values\n",
    "m_turtorials = np.sum((turtorials_exam1 - turtorials_c1) ** 2) + np.sum((turtorials_exam2 - turtorials_c2)**2)\n",
    "print(turtorials_c1, turtorials_c2, m_turtorials)"
   ]
  },
  {
   "cell_type": "code",
   "execution_count": 15,
   "metadata": {},
   "outputs": [
    {
     "name": "stdout",
     "output_type": "stream",
     "text": [
      "complete    8\n",
      "partial     7\n",
      "Name: labs, dtype: int64\n",
      "65.875 22.428571428571427 1364.5892857142858\n"
     ]
    }
   ],
   "source": [
    "#切分变量为labs时\n",
    "print(data.labs.value_counts())\n",
    "labs_c1 = np.mean(data[data.labs == 'complete']['exam'])\n",
    "labs_c2 = np.mean(data[data.labs == 'partial']['exam'])\n",
    "labs_exam1 = data[data.labs == 'complete']['exam'].values\n",
    "labs_exam2 = data[data.labs == 'partial']['exam'].values\n",
    "m_labs = np.sum((labs_exam1 - labs_c1)**2) + np.sum((labs_exam2 - labs_c2) ** 2)\n",
    "print(labs_c1, labs_c2, m_labs)"
   ]
  },
  {
   "cell_type": "code",
   "execution_count": 20,
   "metadata": {},
   "outputs": [
    {
     "name": "stdout",
     "output_type": "stream",
     "text": [
      "   turtorials      labs  exam\n",
      "0         all  complete    74\n",
      "2         all  complete    61\n",
      "3         all  complete    74\n",
      "5         all  complete    61\n",
      "6        some  complete    54\n",
      "8        some  complete    55\n",
      "9         all  complete    75\n",
      "11        all  complete    73\n",
      "   turtorials     labs  exam\n",
      "1        some  partial    23\n",
      "4        some  partial    25\n",
      "7        some  partial    42\n",
      "10       some  partial    13\n",
      "12       some  partial    31\n",
      "13       some  partial    12\n",
      "14       some  partial    11\n"
     ]
    }
   ],
   "source": [
    "#切分变量的均方误差更小，所以选择labs作为切分点\n",
    "data1 = data[data.labs == 'complete']\n",
    "data2 = data[data.labs == 'partial']\n",
    "print(data1)\n",
    "print(data2)"
   ]
  },
  {
   "cell_type": "code",
   "execution_count": 23,
   "metadata": {},
   "outputs": [
    {
     "name": "stdout",
     "output_type": "stream",
     "text": [
      "69.66666666666667 54.5 227.83333333333337\n"
     ]
    }
   ],
   "source": [
    "#目前只剩下一个特征turtorials可以作为切分变量，对于data2的turtorials的取值完全一样，所以不用再做划分，\n",
    "#对于data1的特征turtorials计算均方误差\n",
    "data1_turtorials1 = np.mean(data1[data1.turtorials == 'all']['exam'])\n",
    "data1_turtorials2 = np.mean(data1[data1.turtorials == 'some']['exam'])\n",
    "data1_exam1 = data1[data1.turtorials == 'all']['exam'].values\n",
    "data1_exam2 = data1[data1.turtorials == 'some']['exam'].values\n",
    "m_data1_turtorials = np.sum((data1_exam1 - data1_turtorials1)**2) + np.sum((data1_exam2 - data1_turtorials2)**2)\n",
    "print(data1_turtorials1, data1_turtorials2, m_data1_turtorials)"
   ]
  },
  {
   "cell_type": "code",
   "execution_count": null,
   "metadata": {},
   "outputs": [],
   "source": [
    "#链接：https://www.jianshu.com/p/b90a9ce05b28\n",
    "#https://blog.csdn.net/xiaokang06/article/details/76685902\n",
    "#https://www.jianshu.com/p/b90a9ce05b28"
   ]
  }
 ],
 "metadata": {
  "kernelspec": {
   "display_name": "Python 3",
   "language": "python",
   "name": "python3"
  },
  "language_info": {
   "codemirror_mode": {
    "name": "ipython",
    "version": 3
   },
   "file_extension": ".py",
   "mimetype": "text/x-python",
   "name": "python",
   "nbconvert_exporter": "python",
   "pygments_lexer": "ipython3",
   "version": "3.6.5"
  }
 },
 "nbformat": 4,
 "nbformat_minor": 2
}
