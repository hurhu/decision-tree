{
 "cells": [
  {
   "cell_type": "code",
   "execution_count": 2,
   "metadata": {},
   "outputs": [],
   "source": [
    "import numpy as np\n",
    "import pandas as pd"
   ]
  },
  {
   "cell_type": "code",
   "execution_count": 3,
   "metadata": {},
   "outputs": [],
   "source": [
    "df = pd.read_csv('./C4.5_homework.txt', sep='\\s+', header=None)"
   ]
  },
  {
   "cell_type": "code",
   "execution_count": 4,
   "metadata": {},
   "outputs": [],
   "source": [
    "df.drop(0, axis=1, inplace=True)"
   ]
  },
  {
   "cell_type": "code",
   "execution_count": 5,
   "metadata": {},
   "outputs": [],
   "source": [
    "df.columns = ['a', 'b', 'c', 'd', 'label']"
   ]
  },
  {
   "cell_type": "code",
   "execution_count": 5,
   "metadata": {},
   "outputs": [
    {
     "name": "stdout",
     "output_type": "stream",
     "text": [
      "           a   b   c       d label\n",
      "0      Sunny  85  85    Weak    No\n",
      "1      Sunny  80  90  Strong    No\n",
      "2   Overcast  83  78    Weak   Yes\n",
      "3       Rain  70  96    Weak   Yes\n",
      "4       Rain  68  80    Weak   Yes\n",
      "5       Rain  65  70  Strong    No\n",
      "6   Overcast  64  65  Strong   Yes\n",
      "7      Sunny  72  95    Weak    No\n",
      "8      Sunny  69  70    Weak   Yes\n",
      "9       Rain  75  80    Weak   Yes\n",
      "10     Sunny  75  70  Strong   Yes\n",
      "11  Overcast  72  90  Strong   Yes\n",
      "12  Overcast  81  75    Weak   Yes\n",
      "13      Rain  71  80  Strong    No\n"
     ]
    }
   ],
   "source": [
    "print(df)"
   ]
  },
  {
   "cell_type": "code",
   "execution_count": 6,
   "metadata": {},
   "outputs": [
    {
     "name": "stdout",
     "output_type": "stream",
     "text": [
      "0.9402859586706311\n"
     ]
    }
   ],
   "source": [
    "entropy_data = -9/14*np.log2(9/14) - 5/14*np.log2(5/14)\n",
    "print(entropy_data)"
   ]
  },
  {
   "cell_type": "code",
   "execution_count": 7,
   "metadata": {
    "scrolled": true
   },
   "outputs": [
    {
     "name": "stdout",
     "output_type": "stream",
     "text": [
      "Sunny       5\n",
      "Rain        5\n",
      "Overcast    4\n",
      "Name: a, dtype: int64\n",
      "           a label\n",
      "0      Sunny    No\n",
      "1      Sunny    No\n",
      "2   Overcast   Yes\n",
      "3       Rain   Yes\n",
      "4       Rain   Yes\n",
      "5       Rain    No\n",
      "6   Overcast   Yes\n",
      "7      Sunny    No\n",
      "8      Sunny   Yes\n",
      "9       Rain   Yes\n",
      "10     Sunny   Yes\n",
      "11  Overcast   Yes\n",
      "12  Overcast   Yes\n",
      "13      Rain    No\n",
      "0.15642756242117528\n"
     ]
    }
   ],
   "source": [
    "print(df['a'].value_counts())\n",
    "print(df[['a', 'label']])\n",
    "condition_entropy_feature_a = 5/14*(-3/5*np.log2(3/5) - 2/5*np.log2(2/5)) + 5/14*(-2/5*np.log2(2/5)-3/5*np.log2(3/5)) + 4/14*(-4/4*np.log2(4/4))\n",
    "info_gain_a = entropy_data - condition_entropy_feature_a\n",
    "iv_a = -5/14*np.log2(5/14)-5/14*np.log2(5/14)-4/14*np.log2(4/14)\n",
    "gain_ratio_a = info_gain_a / iv_a\n",
    "print(gain_ratio_a)"
   ]
  },
  {
   "cell_type": "code",
   "execution_count": 10,
   "metadata": {},
   "outputs": [
    {
     "name": "stdout",
     "output_type": "stream",
     "text": [
      "[64 65 68 69 70 71 72 72 75 75 80 81 83 85]\n",
      "[64.5, 66.5, 68.5, 69.5, 70.5, 71.5, 72.0, 73.5, 75.0, 77.5, 80.5, 82.0, 84.0]\n",
      "     b label\n",
      "6   64   Yes\n",
      "5   65    No\n",
      "4   68   Yes\n",
      "8   69   Yes\n",
      "3   70   Yes\n",
      "13  71    No\n",
      "7   72    No\n",
      "11  72   Yes\n",
      "9   75   Yes\n",
      "10  75   Yes\n",
      "1   80    No\n",
      "12  81   Yes\n",
      "2   83   Yes\n",
      "0   85    No\n",
      "0.04770911142796064 0.10229755659174367 0.04533417202914447 0.0013397424044413464 0.02507817350585062 0.0004894691870234169 0.1134008641811034\n"
     ]
    }
   ],
   "source": [
    "#确定特征b的最佳分裂点\n",
    "bb = df['b'].values\n",
    "bb = np.sort(bb)\n",
    "print(bb)\n",
    "split_data = [(bb[i] + bb[i+1]) / 2 for i in range(len(bb) -1 )]\n",
    "print(split_data)\n",
    "print(df[['b', 'label']].sort_values(by='b'))\n",
    "condition_feature_b_645 = 1/14 * (-1/1 * np.log2(1/1)) + 13/14 * (-8/13 * np.log2(8/13) - 5/13*np.log2(5/13))\n",
    "info_gain_b_645 = entropy_data - condition_feature_b_645\n",
    "\n",
    "condition_feature_b_665 = 2/14 * (-1/2 * np.log2(1/2)-1/2*np.log2(1/2)) + 12/14 * (-8/12 * np.log2(8/12) - 4/12*np.log2(5/12))\n",
    "info_gain_b_665 = entropy_data - condition_feature_b_665\n",
    "\n",
    "condition_feature_b_705 = 5/14 * (-4/5 * np.log2(4/5)-1/5*np.log2(1/5)) + 9/14 * (-5/9 * np.log2(5/9) - 4/9*np.log2(4/9))\n",
    "info_gain_b_705 = entropy_data - condition_feature_b_705\n",
    "\n",
    "condition_feature_b_720 = 8/14*(-5/8 * np.log2(5/8)-3/8*np.log2(3/8)) + 6/14*(-4/6*np.log2(4/6)-2/6*np.log2(2/6))\n",
    "info_gain_b_720 = entropy_data - condition_feature_b_720\n",
    "\n",
    "condition_feature_b_775 = 10/14 * (-7/10 * np.log2(7/10)-3/10*np.log2(3/10)) + 4/14 * (-2/4 * np.log2(2/4) - 2/4*np.log2(2/4))\n",
    "info_gain_b_775 = entropy_data - condition_feature_b_775\n",
    "\n",
    "condition_feature_b_805 = 11/14 * (-7/11 * np.log2(7/11)-4/11*np.log2(4/11)) + 3/14 * (-2/3 * np.log2(2/3) - 1/3*np.log2(1/3))\n",
    "info_gain_b_805 = entropy_data - condition_feature_b_805\n",
    "\n",
    "condition_feature_b_840 = 13/14 * (-9/13 * np.log2(9/13)-4/13*np.log2(4/13)) + 1/14 * (-1/1 * np.log2(1/1))\n",
    "info_gain_b_840 = entropy_data - condition_feature_b_840\n",
    "print(info_gain_b_645, info_gain_b_665, info_gain_b_705, info_gain_b_720, info_gain_b_775, info_gain_b_805, info_gain_b_840)"
   ]
  },
  {
   "cell_type": "code",
   "execution_count": 16,
   "metadata": {},
   "outputs": [
    {
     "name": "stdout",
     "output_type": "stream",
     "text": [
      "0.24710225847409267 -0.3601555810152544\n"
     ]
    }
   ],
   "source": [
    "#分裂点为84.0时信息增益最大，计算特征b分类点为84.0的增益率\n",
    "changshu_b = np.log2(df['b'].nunique() - 1) / len(df)\n",
    "iv_b_840 = -1/14 * np.log2(1/14) - 13/14 * np.log2(13/14)\n",
    "gain_ratio_b = (info_gain_b_840 - changshu_b) / iv_b_840\n",
    "print(changshu_b, gain_ratio_b)"
   ]
  },
  {
   "cell_type": "code",
   "execution_count": 20,
   "metadata": {},
   "outputs": [
    {
     "name": "stdout",
     "output_type": "stream",
     "text": [
      "[65 70 70 70 75 78 80 80 80 85 90 90 95 96]\n",
      "[67.5, 70.0, 70.0, 72.5, 76.5, 79.0, 80.0, 80.0, 82.5, 87.5, 90.0, 92.5, 95.5]\n",
      "     c label\n",
      "6   65   Yes\n",
      "5   70    No\n",
      "8   70   Yes\n",
      "10  70   Yes\n",
      "12  75   Yes\n",
      "2   78   Yes\n",
      "4   80   Yes\n",
      "9   80   Yes\n",
      "13  80    No\n",
      "0   85    No\n",
      "1   90    No\n",
      "11  90   Yes\n",
      "7   95    No\n",
      "3   96   Yes\n",
      "0.04770911142796064 0.014956069928972804 0.10224356360985076 0.010318100909640249 0.010318100909640249 0.04770911142796064\n"
     ]
    }
   ],
   "source": [
    "#确定特征c的最佳分裂点\n",
    "cc = df['c'].values\n",
    "cc = np.sort(cc)\n",
    "print(cc)\n",
    "split_data = [(cc[i] + cc[i+1]) / 2 for i in range(len(cc) -1 )]\n",
    "print(split_data)\n",
    "print(df[['c', 'label']].sort_values(by='c'))\n",
    "condition_feature_c_675 = 1/14*(-1/1*np.log2(1/1)) + 13/14*(-8/13*np.log2(8/13)-5/13*np.log2(5/13))\n",
    "info_gain_c_675 = entropy_data - condition_feature_c_675\n",
    "\n",
    "condition_feature_c_700 = 4/14*(-3/4*np.log2(3/4)-1/4*np.log2(1/4)) + 10/14*(-6/10*np.log2(6/10)-4/10*np.log2(4/10))\n",
    "info_gain_c_700 = entropy_data - condition_feature_c_700\n",
    "\n",
    "condition_feature_c_800 = 9/14*(-7/9*np.log2(7/9)-2/9*np.log2(2/9)) + 5/14*(-2/5*np.log2(2/5)-3/5*np.log2(3/5))\n",
    "info_gain_c_800 = entropy_data - condition_feature_c_800\n",
    "\n",
    "condition_feature_c_900 = 12/14*(-8/12*np.log2(8/12)-4/12*np.log2(4/12)) + 2/14*(-1/2*np.log2(1/2)-1/2*np.log2(1/2))\n",
    "info_gain_c_900 = entropy_data - condition_feature_c_900\n",
    "\n",
    "condition_feature_c_925 = 12/14*(-8/12*np.log2(8/12)-4/12*np.log2(4/12)) + 2/14*(-1/2*np.log2(1/2)-1/2*np.log2(1/2))\n",
    "info_gain_c_925 = entropy_data - condition_feature_c_925\n",
    "\n",
    "condition_feature_c_955 = 13/14*(-8/13*np.log2(8/13)-5/13*np.log2(5/13)) + 1/14*(-1/1*np.log2(1/1))\n",
    "info_gain_c_955 = entropy_data - condition_feature_c_955\n",
    "\n",
    "print(info_gain_c_675, info_gain_c_700, info_gain_c_800, info_gain_c_900, info_gain_c_925, info_gain_c_955)"
   ]
  },
  {
   "cell_type": "code",
   "execution_count": 21,
   "metadata": {},
   "outputs": [
    {
     "name": "stdout",
     "output_type": "stream",
     "text": [
      "-0.11915752824201248\n"
     ]
    }
   ],
   "source": [
    "#特征c的最佳分裂点为80.0，计算特征c分裂点为80.0的增益率\n",
    "changshu_c = np.log2(df['c'].nunique() - 1)/len(df)\n",
    "iv_c_800 = -9/14*np.log2(9/14) - 5/14*np.log2(5/14)\n",
    "gain_ratio_c = (info_gain_c_800 - changshu_c) / iv_c_800\n",
    "print(gain_ratio_c)"
   ]
  },
  {
   "cell_type": "code",
   "execution_count": 24,
   "metadata": {},
   "outputs": [
    {
     "name": "stdout",
     "output_type": "stream",
     "text": [
      "Weak      8\n",
      "Strong    6\n",
      "Name: d, dtype: int64\n",
      "         d label\n",
      "0     Weak    No\n",
      "1   Strong    No\n",
      "2     Weak   Yes\n",
      "3     Weak   Yes\n",
      "4     Weak   Yes\n",
      "5   Strong    No\n",
      "6   Strong   Yes\n",
      "7     Weak    No\n",
      "8     Weak   Yes\n",
      "9     Weak   Yes\n",
      "10  Strong   Yes\n",
      "11  Strong   Yes\n",
      "12    Weak   Yes\n",
      "13  Strong    No\n",
      "0.048848615511520824\n"
     ]
    }
   ],
   "source": [
    "#计算特征d的增益率\n",
    "print(df['d'].value_counts())\n",
    "print(df[['d', 'label']])\n",
    "condition_feature_d = 8/14*(-6/8*np.log2(6/8)-2/8*np.log2(2/8)) + 6/14*(-3/6*np.log2(3/6)-3/6*np.log2(3/6))\n",
    "info_gain_d = entropy_data - condition_feature_d\n",
    "iv_d = -8/14*np.log2(8/14) - 6/14*np.log2(6/14)\n",
    "gain_ratio_d = info_gain_d / iv_d\n",
    "print(gain_ratio_d)"
   ]
  },
  {
   "cell_type": "code",
   "execution_count": null,
   "metadata": {},
   "outputs": [],
   "source": [
    "#特征a的增益率为0.15642756242117528，特征b的增益率为-0.3601555810152544，特征c的增益率为-0.11915752824201248，特征d的增益率为0.048848615511520824\n",
    "#所以选择特征a为划分属性"
   ]
  }
 ],
 "metadata": {
  "kernelspec": {
   "display_name": "Python 3",
   "language": "python",
   "name": "python3"
  },
  "language_info": {
   "codemirror_mode": {
    "name": "ipython",
    "version": 3
   },
   "file_extension": ".py",
   "mimetype": "text/x-python",
   "name": "python",
   "nbconvert_exporter": "python",
   "pygments_lexer": "ipython3",
   "version": "3.6.5"
  }
 },
 "nbformat": 4,
 "nbformat_minor": 2
}


参考资料：https://blog.csdn.net/shenxiaoming77/article/details/51602976
来自论文
